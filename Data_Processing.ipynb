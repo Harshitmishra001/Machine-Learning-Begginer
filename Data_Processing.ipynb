{
  "nbformat": 4,
  "nbformat_minor": 0,
  "metadata": {
    "colab": {
      "provenance": [],
      "authorship_tag": "ABX9TyN4aMl9Di2F0KgM6HKHrZjF",
      "include_colab_link": true
    },
    "kernelspec": {
      "name": "python3",
      "display_name": "Python 3"
    },
    "language_info": {
      "name": "python"
    }
  },
  "cells": [
    {
      "cell_type": "markdown",
      "metadata": {
        "id": "view-in-github",
        "colab_type": "text"
      },
      "source": [
        "<a href=\"https://colab.research.google.com/github/Harshitmishra001/Machine-Learning-Begginer/blob/main/Data_Processing.ipynb\" target=\"_parent\"><img src=\"https://colab.research.google.com/assets/colab-badge.svg\" alt=\"Open In Colab\"/></a>"
      ]
    },
    {
      "cell_type": "markdown",
      "source": [
        "Libraries"
      ],
      "metadata": {
        "id": "R21MzGLobiNV"
      }
    },
    {
      "cell_type": "code",
      "execution_count": 7,
      "metadata": {
        "id": "3EE7Xm80NpuG"
      },
      "outputs": [],
      "source": [
        "import numpy as np\n",
        "import pandas as pd\n",
        "import matplotlib.pyplot as plt"
      ]
    },
    {
      "cell_type": "markdown",
      "source": [
        "Seprating Data In Various Variables"
      ],
      "metadata": {
        "id": "C3gawPIKbcqH"
      }
    },
    {
      "cell_type": "code",
      "source": [
        "dataset = pd.read_csv(\"/content/Data.csv\")\n",
        "X = dataset.iloc[ : , :-1].values\n",
        "Y = dataset.iloc[ :, -1].values"
      ],
      "metadata": {
        "id": "3BmGSxiCPr71"
      },
      "execution_count": 8,
      "outputs": []
    },
    {
      "cell_type": "markdown",
      "source": [
        "Handelling Nan Values(Average Method)"
      ],
      "metadata": {
        "id": "SBVtEqQ2bk_z"
      }
    },
    {
      "cell_type": "code",
      "source": [
        "from sklearn.impute import SimpleImputer\n",
        "imputer = SimpleImputer(missing_values=np.nan,strategy='mean')\n",
        "imputer.fit(X[:, 1:3])\n",
        "X[:,1:3]=imputer.transform(X[:,1:3])\n",
        "print(X)"
      ],
      "metadata": {
        "id": "fe6nm-kcYlQV"
      },
      "execution_count": null,
      "outputs": []
    },
    {
      "cell_type": "markdown",
      "source": [
        "Convert Text Into Numbers"
      ],
      "metadata": {
        "id": "H5SulECjmHeF"
      }
    },
    {
      "cell_type": "code",
      "source": [
        "from sklearn.compose import ColumnTransformer\n",
        "from sklearn.preprocessing import OneHotEncoder\n",
        "ct = ColumnTransformer(transformers=[('encoder',OneHotEncoder(),[0])], remainder='passthrough')\n",
        "X = np.array(ct.fit_transform(X))"
      ],
      "metadata": {
        "id": "HfvRTEzImLPv"
      },
      "execution_count": null,
      "outputs": []
    },
    {
      "cell_type": "code",
      "source": [
        "from sklearn.preprocessing import LabelEncoder\n",
        "levlcod = LabelEncoder()\n",
        "Y = levlcod.fit_transform(Y)"
      ],
      "metadata": {
        "id": "02k0trhjYA8i"
      },
      "execution_count": null,
      "outputs": []
    }
  ]
}